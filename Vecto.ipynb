{
 "cells": [
  {
   "cell_type": "code",
   "execution_count": 3,
   "metadata": {},
   "outputs": [
    {
     "name": "stdout",
     "output_type": "stream",
     "text": [
      "Number of elements in vecto x:  5\n",
      "Number of elements in vecto y:  5\n"
     ]
    }
   ],
   "source": [
    "# Exercise 1: Write a command to create vectors and get the number of elements in each vector. x =(1 3 5 2 9) and y= (1 3 15 27 29)\n",
    "\n",
    "x = (1, 3, 5, 2, 9)\n",
    "y = (1, 3, 15, 27, 29)\n",
    "print('Number of elements in vecto x: ', len(x))\n",
    "print('Number of elements in vecto y: ', len(y))"
   ]
  },
  {
   "cell_type": "code",
   "execution_count": 26,
   "metadata": {},
   "outputs": [
    {
     "name": "stdout",
     "output_type": "stream",
     "text": [
      "Vecto cua ban la:  [12, 14, 16]\n"
     ]
    }
   ],
   "source": [
    "# Exercise 2: Write a command to create the following vectors with n elements (user-defined variable)\n",
    "#(a) b = (12 14 16 18 20 22 24 26 28 30 32...)\n",
    "\n",
    "x = 10\n",
    "# x la so dau tien, dat x = 10 de khi x += 2 thi so đau tien luon la 12\n",
    "vecto =[]\n",
    "\n",
    "amount = int(input('Nhap so luong gia tri cua Vecto: '))\n",
    "for i in range(amount):\n",
    "    x += 2\n",
    "    vecto.append(x)\n",
    "print('Vecto cua ban la: ', vecto)\n"
   ]
  },
  {
   "cell_type": "code",
   "execution_count": 10,
   "metadata": {},
   "outputs": [
    {
     "name": "stdout",
     "output_type": "stream",
     "text": [
      "Vecto cua ban la:  [31, 33, 35, 37, 39, 41, 43, 45, 47, 49, 51]\n"
     ]
    }
   ],
   "source": [
    "# (b) c = (31 33 35 37 39 41 43 45 47 49 51...)\n",
    "x = 29 \n",
    "# x la so dau tien, dat x = 29 de khi x += 2 thi so đau tien luon la 31\n",
    "vecto =[]\n",
    "amount = int(input('Nhap so luong gia tri cua Vecto: '))\n",
    "for i in range(amount):\n",
    "    x += 2\n",
    "    vecto.append(x)\n",
    "print('Vecto cua ban la: ', vecto)\n"
   ]
  },
  {
   "cell_type": "code",
   "execution_count": 8,
   "metadata": {},
   "outputs": [
    {
     "name": "stdout",
     "output_type": "stream",
     "text": [
      "Vecto cua ban la:  [-2, -1, 0, 1, 2]\n"
     ]
    }
   ],
   "source": [
    "# (c) x =(...−5−4−3−2−1 0 1 2 3 4 5...)\n",
    "\n",
    "# x la so sau 0\n",
    "x = 0\n",
    "# y la so truoc 0\n",
    "y = 0\n",
    "# z la so 0 (so 0 luon xuat hien o giua vecto)\n",
    "z = 0\n",
    "# Them 0 vao vecto de output luon co so 0\n",
    "vecto = [z]\n",
    "amount = int(input('Nhap so luong gia tri cua Vecto: '))\n",
    "\n",
    "for i in range(amount):\n",
    "    x -= 1\n",
    "    vecto.insert(0,x)\n",
    "\n",
    "for i in range(amount):\n",
    "    y += 1\n",
    "    vecto.append(y)\n",
    "print('Vecto cua ban la: ', vecto)\n",
    "    "
   ]
  },
  {
   "cell_type": "code",
   "execution_count": 3,
   "metadata": {},
   "outputs": [
    {
     "name": "stdout",
     "output_type": "stream",
     "text": [
      "Vecto cua ban la:  [5, 4, 3, 2, 1, 0, -1, -2, -3, -4, -5]\n"
     ]
    }
   ],
   "source": [
    "# (d) y= (... 5 4 3 2 1 0 −1 −2 −3 −4 −5...)\n",
    "\n",
    "# x la so truoc 0\n",
    "x = 0\n",
    "# y la so sau 0\n",
    "y = 0\n",
    "# z la so 0 (so 0 luon xuat hien o giua vecto)\n",
    "z = 0\n",
    "# Them 0 vao vecto de output luon co so 0\n",
    "vecto = [z]\n",
    "amount = int(input('Nhap so luong gia tri cua Vecto: '))\n",
    "\n",
    "for i in range(amount):\n",
    "    x += 1\n",
    "    vecto.insert(0,x)\n",
    "\n",
    "for i in range(amount):\n",
    "    y -= 1\n",
    "    vecto.append(y)\n",
    "print('Vecto cua ban la: ', vecto)"
   ]
  },
  {
   "cell_type": "code",
   "execution_count": 29,
   "metadata": {},
   "outputs": [
    {
     "name": "stdout",
     "output_type": "stream",
     "text": [
      "Vecto cua ban la:  [10, 8, 6, 4, 2, 0, -2, -4]\n"
     ]
    }
   ],
   "source": [
    "# (e) z = (10 8 6 4 2 0 -2 -4...)\n",
    "\n",
    "x = 12 \n",
    "# x la so dau tien, dat x = 8 de khi x -= 2 thi so đau tien luon la 10\n",
    "vecto =[]\n",
    "\n",
    "amount = int(input('Nhap so luong gia tri cua Vecto: '))\n",
    "for i in range(amount):\n",
    "    x -= 2\n",
    "    vecto.append(x)\n",
    "print('Vecto cua ban la: ', vecto)"
   ]
  },
  {
   "cell_type": "code",
   "execution_count": 17,
   "metadata": {},
   "outputs": [
    {
     "name": "stdout",
     "output_type": "stream",
     "text": [
      "Vecto cua ban la:  [1.0, 0.5, 0.25, 0.125, 0.0625, 0.03125, 0.015625, 0.0078125]\n"
     ]
    }
   ],
   "source": [
    "# (f)\n",
    "\n",
    "# from fractions import Fraction\n",
    "x = 2 \n",
    "# x la so dau tien, dat x = 2 de khi x *= 1/2 thi so đau tien luon la 1\n",
    "vecto =[]\n",
    "\n",
    "amount = int(input('Nhap so luong gia tri cua Vecto: '))\n",
    "for i in range(amount):\n",
    "    x *= 1/2\n",
    "    # y = Fraction(x)\n",
    "    # vecto.append(y)\n",
    "    vecto.append(x)\n",
    "# vecto_str = [f\"{frac.numerator}/{frac.denominator}\" for frac in vecto]\n",
    "\n",
    "# print('Vecto cua ban la: ', vecto_str)\n",
    "print('Vecto cua ban la: ', vecto)"
   ]
  },
  {
   "cell_type": "code",
   "execution_count": 34,
   "metadata": {},
   "outputs": [
    {
     "name": "stdout",
     "output_type": "stream",
     "text": [
      "[1, 3, 6, 10, 15, 21, 28, 36, 45, 55]\n"
     ]
    }
   ],
   "source": [
    "# (i)\n",
    "x = 0\n",
    "y = 0\n",
    "vecto = []\n",
    "\n",
    "amount = int(input('Nhap so luong gia tri cua Vecto: '))\n",
    "\n",
    "for i in range(amount):\n",
    "    y += 1\n",
    "    x = x + y\n",
    "    vecto.append(x)\n",
    "print(vecto)\n",
    "\n"
   ]
  }
 ],
 "metadata": {
  "kernelspec": {
   "display_name": "Python 3",
   "language": "python",
   "name": "python3"
  },
  "language_info": {
   "codemirror_mode": {
    "name": "ipython",
    "version": 3
   },
   "file_extension": ".py",
   "mimetype": "text/x-python",
   "name": "python",
   "nbconvert_exporter": "python",
   "pygments_lexer": "ipython3",
   "version": "3.11.2"
  }
 },
 "nbformat": 4,
 "nbformat_minor": 2
}
